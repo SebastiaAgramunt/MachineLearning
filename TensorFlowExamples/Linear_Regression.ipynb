{
 "cells": [
  {
   "cell_type": "markdown",
   "metadata": {},
   "source": [
    "# Linear regressions in TensorFlow"
   ]
  },
  {
   "cell_type": "markdown",
   "metadata": {},
   "source": [
    "## Simple linear regression"
   ]
  },
  {
   "cell_type": "code",
   "execution_count": 1,
   "metadata": {},
   "outputs": [
    {
     "name": "stderr",
     "output_type": "stream",
     "text": [
      "/Users/sebastia.agramunt/anaconda/envs/tensorflow/lib/python3.5/importlib/_bootstrap.py:222: RuntimeWarning: compiletime version 3.6 of module 'tensorflow.python.framework.fast_tensor_util' does not match runtime version 3.5\n",
      "  return f(*args, **kwds)\n"
     ]
    }
   ],
   "source": [
    "import tensorflow as tf\n",
    "import numpy as np\n",
    "import matplotlib.pyplot as plt"
   ]
  },
  {
   "cell_type": "code",
   "execution_count": 2,
   "metadata": {
    "collapsed": true
   },
   "outputs": [],
   "source": [
    "# Parameters\n",
    "learning_rate = 0.02 #how fast our model learns\n",
    "training_epochs = 2000 #number of epochs (1 epoch is one pass to all the data)\n",
    "display_step = 100 "
   ]
  },
  {
   "cell_type": "code",
   "execution_count": 3,
   "metadata": {
    "collapsed": true
   },
   "outputs": [],
   "source": [
    "#generate data for linear regression\n",
    "x_data = np.arange(0,10,0.5)\n",
    "y_data = np.array([np.random.normal(x) for x in x_data])"
   ]
  },
  {
   "cell_type": "code",
   "execution_count": 4,
   "metadata": {
    "collapsed": true
   },
   "outputs": [],
   "source": [
    "#placeholders \n",
    "#tf.placeholder(\n",
    "#    dtype,\n",
    "#    shape=None,\n",
    "#    name=None\n",
    "#)\n",
    "#Its value must be fed using the feed_dict optional argument to Session.run(), Tensor.eval(), or Operation.run()\n",
    "#we use placeholders to input the data\n",
    "\n",
    "X = tf.placeholder(tf.float32)\n",
    "Y = tf.placeholder(tf.float32)"
   ]
  },
  {
   "cell_type": "code",
   "execution_count": 5,
   "metadata": {
    "collapsed": true
   },
   "outputs": [],
   "source": [
    "#variables\n",
    "#tf.Variable(<initial-value>, name=<optional-name>)\n",
    "#variables will change during the process of backpropagation\n",
    "\n",
    "W = tf.Variable(np.random.randn(),name = \"omega\")\n",
    "b = tf.Variable(np.random.randn(),name = \"bias\")"
   ]
  },
  {
   "cell_type": "code",
   "execution_count": 6,
   "metadata": {
    "collapsed": true
   },
   "outputs": [],
   "source": [
    "#This is the prediction of y\n",
    "Y_pred = tf.add(tf.multiply(W,X),b)\n",
    "\n",
    "#and the cost\n",
    "#cost = tf.reduce_mean(tf.pow(Y-Y_pred,2))\n",
    "cost = tf.reduce_sum(tf.pow(Y_pred-Y, 2))/(2*x_data.shape[0])"
   ]
  },
  {
   "cell_type": "code",
   "execution_count": 7,
   "metadata": {
    "collapsed": true
   },
   "outputs": [],
   "source": [
    "to_optimize = tf.train.GradientDescentOptimizer(learning_rate).minimize(cost)"
   ]
  },
  {
   "cell_type": "code",
   "execution_count": 8,
   "metadata": {},
   "outputs": [
    {
     "name": "stdout",
     "output_type": "stream",
     "text": [
      "Epoch: 100, cost = 0.458724082, w = 1.113970160484314, b = -0.5291939377784729\n",
      "Epoch: 200, cost = 0.392081022, w = 1.0625447034835815, b = -0.17399238049983978\n",
      "Epoch: 300, cost = 0.368854344, w = 1.032220721244812, b = 0.03545903041958809\n",
      "Epoch: 400, cost = 0.360746235, w = 1.014339566230774, b = 0.1589663177728653\n",
      "Epoch: 500, cost = 0.357908130, w = 1.0037957429885864, b = 0.23179461061954498\n",
      "Epoch: 600, cost = 0.356910139, w = 0.9975781440734863, b = 0.2747398018836975\n",
      "Epoch: 700, cost = 0.356556654, w = 0.9939121007919312, b = 0.30006280541419983\n",
      "Epoch: 800, cost = 0.356429905, w = 0.9917502403259277, b = 0.31499430537223816\n",
      "Epoch: 900, cost = 0.356383473, w = 0.9904753565788269, b = 0.3237997889518738\n",
      "Epoch: 1000, cost = 0.356365979, w = 0.9897236824035645, b = 0.32899194955825806\n",
      "Epoch: 1100, cost = 0.356359124, w = 0.9892804622650146, b = 0.3320539593696594\n",
      "Epoch: 1200, cost = 0.356356293, w = 0.989018976688385, b = 0.3338591754436493\n",
      "Epoch: 1300, cost = 0.356355011, w = 0.9888648986816406, b = 0.334923654794693\n",
      "Epoch: 1400, cost = 0.356354386, w = 0.9887741208076477, b = 0.33555150032043457\n",
      "Epoch: 1500, cost = 0.356354088, w = 0.9887204766273499, b = 0.3359210789203644\n",
      "Epoch: 1600, cost = 0.356353968, w = 0.9886888861656189, b = 0.3361394703388214\n",
      "Epoch: 1700, cost = 0.356353849, w = 0.9886701107025146, b = 0.33627015352249146\n",
      "Epoch: 1800, cost = 0.356353819, w = 0.9886589646339417, b = 0.3363453447818756\n",
      "Epoch: 1900, cost = 0.356353819, w = 0.9886525869369507, b = 0.3363896608352661\n",
      "Epoch: 2000, cost = 0.356353730, w = 0.988649308681488, b = 0.3364138603210449\n"
     ]
    },
    {
     "data": {
      "image/png": "[encoded data removed]",
      "text/plain": [
       "<matplotlib.figure.Figure at 0x18171a8940>"
      ]
     },
     "metadata": {},
     "output_type": "display_data"
    }
   ],
   "source": [
    "init = tf.global_variables_initializer()\n",
    "\n",
    "with tf.Session() as sess:\n",
    "    sess.run(init)\n",
    "\n",
    "    # Fit all training data\n",
    "    for epoch in range(training_epochs):\n",
    "        for (x, y) in zip(x_data, y_data):\n",
    "            sess.run(to_optimize, feed_dict={X: x, Y: y})\n",
    "\n",
    "        #Display logs per epoch step\n",
    "        if (epoch+1) % display_step == 0:\n",
    "            c = sess.run(cost, feed_dict={X: x_data, Y: y_data})\n",
    "            print(\"Epoch: {}, cost = {:.9f}, w = {}, b = {}\".format(epoch+1,c,sess.run(W),sess.run(b)))\n",
    "\n",
    "    training_cost = sess.run(cost, feed_dict={X: x_data, Y: y_data})\n",
    "    #Graphic display\n",
    "    plt.plot(x_data, y_data, 'ro', label='Data')\n",
    "    plt.plot(x_data, sess.run(W) * x_data + sess.run(b), label='Line fitted using gradient descent')\n",
    "    plt.legend()\n",
    "    plt.grid()\n",
    "    plt.show()"
   ]
  },
  {
   "cell_type": "markdown",
   "metadata": {},
   "source": [
    "We can find the exact solution (this is a convex problem) using linear algebra. This can be calculated using the stats module from the scipy package"
   ]
  },
  {
   "cell_type": "code",
   "execution_count": 9,
   "metadata": {},
   "outputs": [
    {
     "name": "stdout",
     "output_type": "stream",
     "text": [
      "Slope is 0.99043388170828\n",
      "Intercept is 0.3368667395273137\n",
      "r_value is 0.9589748997879189\n",
      "p_value is 2.6933635699173578e-11\n"
     ]
    }
   ],
   "source": [
    "from scipy import stats\n",
    "slope, intercept, r_value, p_value, std_err = stats.linregress(x_data,y_data)\n",
    "print(\"Slope is {}\".format(slope))\n",
    "print(\"Intercept is {}\".format(intercept))\n",
    "print(\"r_value is {}\".format(r_value))\n",
    "print(\"p_value is {}\".format(p_value))"
   ]
  },
  {
   "cell_type": "markdown",
   "metadata": {},
   "source": [
    "The slope and the intercept are very similar, our calculated solution is quite good."
   ]
  },
  {
   "cell_type": "markdown",
   "metadata": {},
   "source": [
    "## Polinomial linear regression"
   ]
  },
  {
   "cell_type": "markdown",
   "metadata": {},
   "source": [
    "We'll try to fit a polinomial\n",
    "\n",
    "\\begin{eqnarray}\n",
    "y(x) &=& a_0+a_1x+a_2x^2 \\\\\n",
    "y(x) &=& 1+3x+2x^2\n",
    "\\end{eqnarray}"
   ]
  },
  {
   "cell_type": "code",
   "execution_count": 40,
   "metadata": {
    "collapsed": true
   },
   "outputs": [],
   "source": [
    "#generate data for linear regression\n",
    "#function to be fitted\n",
    "a0 = 1\n",
    "a1 = 3\n",
    "a2 = 2\n",
    "\n",
    "def polynomial2(x,a0=a0,a1=a1,a2=a2):\n",
    "    return a2*np.power(x,2.0)+a1*x+a0\n",
    "\n",
    "x_data = np.arange(0,5,0.1)\n",
    "y_data = np.array([np.random.normal(polynomial2(x)) for x in x_data])\n",
    "x_features = np.array([[1.0,x,np.power(x,2.0)] for x in x_data])#.reshape(3,-1)"
   ]
  },
  {
   "cell_type": "code",
   "execution_count": 41,
   "metadata": {},
   "outputs": [],
   "source": [
    "X = tf.placeholder(tf.float32,shape = (1,3))\n",
    "W = tf.Variable(tf.truncated_normal((3, 1)))\n",
    "\n",
    "Y_pred = tf.matmul(X,W)\n",
    "cost = tf.reduce_sum(tf.pow(Y_pred-Y, 2))/(2*x_features.shape[0])\n",
    "to_optimize = tf.train.GradientDescentOptimizer(learning_rate).minimize(cost)"
   ]
  },
  {
   "cell_type": "code",
   "execution_count": 42,
   "metadata": {},
   "outputs": [
    {
     "name": "stdout",
     "output_type": "stream",
     "text": [
      "Epoch: 100, cost = 0.004426220, w0 = [ 1.06577313], w1 = [ 2.5443821], w2 = [ 2.10914373]\n",
      "Epoch: 200, cost = 0.002195192, w0 = [ 1.41264808], w1 = [ 2.7997272], w2 = [ 2.03438973]\n",
      "Epoch: 300, cost = 0.001903596, w0 = [ 1.50930631], w1 = [ 2.8218267], w2 = [ 2.02451181]\n",
      "Epoch: 400, cost = 0.001893855, w0 = [ 1.55387437], w1 = [ 2.8022356], w2 = [ 2.02660728]\n",
      "Epoch: 500, cost = 0.001931123, w0 = [ 1.58513713], w1 = [ 2.77755308], w2 = [ 2.03051972]\n",
      "Epoch: 600, cost = 0.001972921, w0 = [ 1.61100185], w1 = [ 2.75449848], w2 = [ 2.03434467]\n",
      "Epoch: 700, cost = 0.002011742, w0 = [ 1.63334739], w1 = [ 2.73403311], w2 = [ 2.0377717]\n",
      "Epoch: 800, cost = 0.002046314, w0 = [ 1.65284908], w1 = [ 2.71607566], w2 = [ 2.04078412]\n",
      "Epoch: 900, cost = 0.002076868, w0 = [ 1.66989589], w1 = [ 2.70036077], w2 = [ 2.04342127]\n",
      "Epoch: 1000, cost = 0.002103761, w0 = [ 1.68481088], w1 = [ 2.68660331], w2 = [ 2.04573035]\n",
      "Epoch: 1100, cost = 0.002127483, w0 = [ 1.69786954], w1 = [ 2.67455173], w2 = [ 2.04775333]\n",
      "Epoch: 1200, cost = 0.002148332, w0 = [ 1.70929182], w1 = [ 2.66400933], w2 = [ 2.04952312]\n",
      "Epoch: 1300, cost = 0.002166795, w0 = [ 1.71928799], w1 = [ 2.65478086], w2 = [ 2.05107284]\n",
      "Epoch: 1400, cost = 0.002182805, w0 = [ 1.7280376], w1 = [ 2.64671588], w2 = [ 2.05242586]\n",
      "Epoch: 1500, cost = 0.002197015, w0 = [ 1.73569655], w1 = [ 2.63965225], w2 = [ 2.05361152]\n",
      "Epoch: 1600, cost = 0.002209370, w0 = [ 1.7423991], w1 = [ 2.63347292], w2 = [ 2.0546484]\n",
      "Epoch: 1700, cost = 0.002220321, w0 = [ 1.7482599], w1 = [ 2.62806726], w2 = [ 2.05555582]\n",
      "Epoch: 1800, cost = 0.002229894, w0 = [ 1.75338769], w1 = [ 2.62333703], w2 = [ 2.05634999]\n",
      "Epoch: 1900, cost = 0.002238296, w0 = [ 1.75787377], w1 = [ 2.6191783], w2 = [ 2.0570488]\n",
      "Epoch: 2000, cost = 0.002245630, w0 = [ 1.76180434], w1 = [ 2.61556077], w2 = [ 2.05765557]\n"
     ]
    }
   ],
   "source": [
    "init = tf.global_variables_initializer()\n",
    "with tf.Session() as sess:\n",
    "    sess.run(init)\n",
    "    for epoch in range(training_epochs):\n",
    "        for (x,y) in zip(x_features,y_data):\n",
    "            x = x.reshape(1,3)\n",
    "            sess.run(to_optimize,feed_dict={Y : y,X : x})\n",
    "        if (epoch+1) % display_step == 0:\n",
    "            c = sess.run(cost,feed_dict={Y : y,X : x})\n",
    "            print(\"Epoch: {}, cost = {:.9f}, w0 = {}, w1 = {}, w2 = {}\".format(epoch+1,\n",
    "                                                                               c,\n",
    "                                                                               sess.run(W)[0],\n",
    "                                                                               sess.run(W)[1],\n",
    "                                                                               sess.run(W)[2]))"
   ]
  },
  {
   "cell_type": "markdown",
   "metadata": {},
   "source": [
    "Now we'll calculate the exact analytical solution for this multilinear regression. For this we don't need to feed the intercept term, we'll calculate x_features2."
   ]
  },
  {
   "cell_type": "code",
   "execution_count": 14,
   "metadata": {},
   "outputs": [],
   "source": [
    "x_features2 = [x[1:] for x in x_features]"
   ]
  },
  {
   "cell_type": "code",
   "execution_count": 15,
   "metadata": {},
   "outputs": [
    {
     "name": "stdout",
     "output_type": "stream",
     "text": [
      "Coefficients: a1,a2\n",
      "\n",
      "[ 3.32020452  1.94240316]\n",
      "Intercept: a0\n",
      "\n",
      "0.893921065853\n"
     ]
    }
   ],
   "source": [
    "from sklearn.linear_model import LinearRegression\n",
    "\n",
    "lr = LinearRegression()\n",
    "lr.fit(x_features2,y_data)\n",
    "print(\"Coefficients: a1,a2\\n\")\n",
    "print(lr.coef_)\n",
    "\n",
    "print(\"Intercept: a0\\n\")\n",
    "print(lr.intercept_)"
   ]
  },
  {
   "cell_type": "code",
   "execution_count": 16,
   "metadata": {
    "collapsed": true
   },
   "outputs": [],
   "source": [
    "y_pred_sklearn = lr.predict(x_features2)"
   ]
  },
  {
   "cell_type": "code",
   "execution_count": 17,
   "metadata": {},
   "outputs": [
    {
     "data": {
      "image/png": "[encoded data removed]",
      "text/plain": [
       "<matplotlib.figure.Figure at 0x1a204f5390>"
      ]
     },
     "metadata": {},
     "output_type": "display_data"
    }
   ],
   "source": [
    "plt.clf()\n",
    "plt.plot(x_data,y_data,'ro',label=\"data\")\n",
    "plt.plot(x_data, y_pred_sklearn, label='Line fitted sklearn')\n",
    "#plt.plot(x_data, y_pred_tf[0], label='Line fitted gradient descent')\n",
    "plt.grid()\n",
    "plt.legend()\n",
    "plt.show()"
   ]
  },
  {
   "cell_type": "code",
   "execution_count": 29,
   "metadata": {
    "collapsed": true
   },
   "outputs": [],
   "source": [
    "a = np.zeros((3,3))\n",
    "ta = tf.convert_to_tensor(a)"
   ]
  },
  {
   "cell_type": "code",
   "execution_count": 32,
   "metadata": {},
   "outputs": [
    {
     "name": "stdout",
     "output_type": "stream",
     "text": [
      "Help on function convert_to_tensor in module tensorflow.python.framework.ops:\n",
      "\n",
      "convert_to_tensor(value, dtype=None, name=None, preferred_dtype=None)\n",
      "    Converts the given `value` to a `Tensor`.\n",
      "    \n",
      "    This function converts Python objects of various types to `Tensor`\n",
      "    objects. It accepts `Tensor` objects, numpy arrays, Python lists,\n",
      "    and Python scalars. For example:\n",
      "    \n",
      "    ```python\n",
      "    import numpy as np\n",
      "    \n",
      "    def my_func(arg):\n",
      "      arg = tf.convert_to_tensor(arg, dtype=tf.float32)\n",
      "      return tf.matmul(arg, arg) + arg\n",
      "    \n",
      "    # The following calls are equivalent.\n",
      "    value_1 = my_func(tf.constant([[1.0, 2.0], [3.0, 4.0]]))\n",
      "    value_2 = my_func([[1.0, 2.0], [3.0, 4.0]])\n",
      "    value_3 = my_func(np.array([[1.0, 2.0], [3.0, 4.0]], dtype=np.float32))\n",
      "    ```\n",
      "    \n",
      "    This function can be useful when composing a new operation in Python\n",
      "    (such as `my_func` in the example above). All standard Python op\n",
      "    constructors apply this function to each of their Tensor-valued\n",
      "    inputs, which allows those ops to accept numpy arrays, Python lists,\n",
      "    and scalars in addition to `Tensor` objects.\n",
      "    \n",
      "    Note: This function diverges from default Numpy behavior for `float` and\n",
      "      `string` types when `None` is present in a Python list or scalar. Rather\n",
      "      than silently converting `None` values, an error will be thrown.\n",
      "    \n",
      "    Args:\n",
      "      value: An object whose type has a registered `Tensor` conversion function.\n",
      "      dtype: Optional element type for the returned tensor. If missing, the\n",
      "        type is inferred from the type of `value`.\n",
      "      name: Optional name to use if a new `Tensor` is created.\n",
      "      preferred_dtype: Optional element type for the returned tensor,\n",
      "        used when dtype is None. In some cases, a caller may not have a\n",
      "        dtype in mind when converting to a tensor, so preferred_dtype\n",
      "        can be used as a soft preference.  If the conversion to\n",
      "        `preferred_dtype` is not possible, this argument has no effect.\n",
      "    \n",
      "    Returns:\n",
      "      An `Output` based on `value`.\n",
      "    \n",
      "    Raises:\n",
      "      TypeError: If no conversion function is registered for `value`.\n",
      "      RuntimeError: If a registered conversion function returns an invalid value.\n",
      "\n"
     ]
    }
   ],
   "source": [
    "help(tf.convert_to_tensor)"
   ]
  }
 ],
 "metadata": {
  "kernelspec": {
   "display_name": "Python [conda env:tensorflow]",
   "language": "python",
   "name": "conda-env-tensorflow-py"
  },
  "language_info": {
   "codemirror_mode": {
    "name": "ipython",
    "version": 3
   },
   "file_extension": ".py",
   "mimetype": "text/x-python",
   "name": "python",
   "nbconvert_exporter": "python",
   "pygments_lexer": "ipython3",
   "version": "3.5.4"
  }
 },
 "nbformat": 4,
 "nbformat_minor": 2
}
