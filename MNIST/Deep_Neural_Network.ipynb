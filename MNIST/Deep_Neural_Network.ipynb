{
 "cells": [
  {
   "cell_type": "code",
   "execution_count": 1,
   "metadata": {
    "collapsed": false
   },
   "outputs": [
    {
     "name": "stdout",
     "output_type": "stream",
     "text": [
      "Extracting MNIST_data/train-images-idx3-ubyte.gz\n",
      "Extracting MNIST_data/train-labels-idx1-ubyte.gz\n",
      "Extracting MNIST_data/t10k-images-idx3-ubyte.gz\n",
      "Extracting MNIST_data/t10k-labels-idx1-ubyte.gz\n"
     ]
    }
   ],
   "source": [
    "import tensorflow as tf\n",
    "import numpy as np\n",
    "import matplotlib.pyplot as plt\n",
    "\n",
    "# Download the dataset\n",
    "from tensorflow.examples.tutorials.mnist import input_data\n",
    "mnist = input_data.read_data_sets(\"MNIST_data/\", one_hot=True)"
   ]
  },
  {
   "cell_type": "code",
   "execution_count": 2,
   "metadata": {
    "collapsed": false
   },
   "outputs": [
    {
     "data": {
      "text/plain": [
       "<matplotlib.figure.Figure at 0x123c4e2b0>"
      ]
     },
     "metadata": {},
     "output_type": "display_data"
    },
    {
     "data": {
      "image/png": "[encoded data removed]",
      "text/plain": [
       "<matplotlib.figure.Figure at 0x123c4e278>"
      ]
     },
     "metadata": {},
     "output_type": "display_data"
    }
   ],
   "source": [
    "plt.clf()\n",
    "fig, ax = plt.subplots(2,3,figsize=(10,5))\n",
    "\n",
    "for i in range(6):\n",
    "    ax = fig.add_subplot(2, 3, i+1)\n",
    "    ax.imshow(mnist.train.images[i].reshape(28,28),cmap=\"gray\")\n",
    "    ax.axis(\"off\")\n",
    "plt.show()"
   ]
  },
  {
   "cell_type": "code",
   "execution_count": 3,
   "metadata": {
    "collapsed": true
   },
   "outputs": [],
   "source": [
    "def get_batches(X,Y,batch_size):\n",
    "    '''\n",
    "    Get batches of data, input is features,target\n",
    "    and batch_size, output is one minibatch\n",
    "    '''\n",
    "    iters = X.shape[0]//batch_size\n",
    "    for i in range(0,iters):\n",
    "        yield X[i*batch_size:(i+1)*batch_size],Y[i*batch_size:(i+1)*batch_size]"
   ]
  },
  {
   "cell_type": "markdown",
   "metadata": {},
   "source": [
    "## Neural Network with 3 hidden layers"
   ]
  },
  {
   "cell_type": "markdown",
   "metadata": {},
   "source": [
    "We define a nerual network with 3 hidden layers of 15 nodes each (exept the last one that has to be 10, the number of classes) that are fully connected."
   ]
  },
  {
   "cell_type": "code",
   "execution_count": 4,
   "metadata": {
    "collapsed": true
   },
   "outputs": [],
   "source": [
    "learning_rate = 0.05 #learning rate, too big will cause NaNs.\n",
    "batch_size = 10 #size to input the model, max is mnist.train.images.shape[0], the full data\n",
    "epochs = 200 #number of epochs (times we pass trhough all the training data)\n",
    "display_step = 5 #every how many steps we display the accuracy"
   ]
  },
  {
   "cell_type": "code",
   "execution_count": 5,
   "metadata": {
    "collapsed": false
   },
   "outputs": [],
   "source": [
    "nodes_h1 = 15 #number of nodes first layer\n",
    "nodes_h2 = 15 #number of nodes second layer\n",
    "n_classes = 10 #classes\n",
    "\n",
    "with tf.name_scope('input'):\n",
    "    X = tf.placeholder(tf.float32, [None, 784],name=\"X\") #input \n",
    "    Y = tf.placeholder(tf.float32, [None, 10],name=\"Y\") #true classification\n",
    "\n",
    "with tf.name_scope('parameters'):\n",
    "    W_hidden_1 = tf.Variable(tf.random_normal([784,nodes_h1], name =\"W1\")) \n",
    "    b_hidden_1 = tf.Variable(tf.random_normal([nodes_h1]),name=\"b1\")\n",
    "\n",
    "    W_hidden_2 = tf.Variable(tf.random_normal([nodes_h1,nodes_h2], name =\"W2\"))\n",
    "    b_hidden_2 = tf.Variable(tf.random_normal([nodes_h2]),name=\"b2\")\n",
    "                             \n",
    "    W_output = tf.Variable(tf.random_normal([nodes_h2,n_classes]),name=\"W_output\")\n",
    "    b_output = tf.Variable(tf.random_normal([n_classes]),name=\"b_output\")\n",
    "                             \n",
    "layer_1 = tf.nn.softmax(tf.matmul(X, W_hidden_1) + b_hidden_1)\n",
    "layer_2 = tf.nn.softmax(tf.matmul(layer_1, W_hidden_2) + b_hidden_2)\n",
    "\n",
    "with tf.name_scope('prediction'):\n",
    "    y = tf.nn.softmax(tf.matmul(layer_2, W_output) + b_output)\n",
    "\n",
    "#the error to minimize is the cross_entropy\n",
    "cross_entropy = tf.reduce_mean(-tf.reduce_sum(Y * tf.log(y), reduction_indices=[1]))\n",
    "\n",
    "correct_prediction = tf.equal(tf.argmax(y,1), tf.argmax(Y,1))\n",
    "accuracy = tf.reduce_mean(tf.cast(correct_prediction, tf.float32))\n",
    "\n",
    "#train the nn with simple gradient descent\n",
    "train_step = tf.train.GradientDescentOptimizer(learning_rate).minimize(cross_entropy)\n",
    "\n",
    "#saver\n",
    "saver = tf.train.Saver()\n",
    "\n",
    "#to show in tensorboard\n",
    "summary_acc = tf.summary.scalar(name=\"acc\",tensor=accuracy)"
   ]
  },
  {
   "cell_type": "code",
   "execution_count": 6,
   "metadata": {
    "collapsed": false
   },
   "outputs": [
    {
     "name": "stdout",
     "output_type": "stream",
     "text": [
      "epoch: 0, accuracy:0.35530000925064087, cross_entropy:1.6375553607940674\n",
      "epoch: 5, accuracy:0.5597000122070312, cross_entropy:1.0829017162322998\n",
      "epoch: 10, accuracy:0.7307000160217285, cross_entropy:0.7259600758552551\n",
      "epoch: 15, accuracy:0.7524999976158142, cross_entropy:0.6786924004554749\n",
      "epoch: 20, accuracy:0.7712000012397766, cross_entropy:0.6719315648078918\n",
      "epoch: 25, accuracy:0.7906000018119812, cross_entropy:0.6145690679550171\n",
      "epoch: 30, accuracy:0.798799991607666, cross_entropy:0.5906968712806702\n",
      "epoch: 35, accuracy:0.7978000044822693, cross_entropy:0.5883212685585022\n",
      "epoch: 40, accuracy:0.7979999780654907, cross_entropy:0.5889756679534912\n",
      "epoch: 45, accuracy:0.7950000166893005, cross_entropy:0.5999442338943481\n",
      "epoch: 50, accuracy:0.7929999828338623, cross_entropy:0.6034144163131714\n",
      "epoch: 55, accuracy:0.7964000105857849, cross_entropy:0.5988724827766418\n",
      "epoch: 60, accuracy:0.7964000105857849, cross_entropy:0.6042076349258423\n",
      "epoch: 65, accuracy:0.8048999905586243, cross_entropy:0.5869981050491333\n",
      "epoch: 70, accuracy:0.8116999864578247, cross_entropy:0.571016788482666\n",
      "epoch: 75, accuracy:0.8149999976158142, cross_entropy:0.5683572888374329\n",
      "epoch: 80, accuracy:0.8109999895095825, cross_entropy:0.5828119516372681\n",
      "epoch: 85, accuracy:0.8195000290870667, cross_entropy:0.5606711506843567\n",
      "epoch: 90, accuracy:0.8402000069618225, cross_entropy:0.5283377170562744\n",
      "epoch: 95, accuracy:0.8687000274658203, cross_entropy:0.4933849573135376\n",
      "epoch: 100, accuracy:0.9014999866485596, cross_entropy:0.43259379267692566\n",
      "epoch: 105, accuracy:0.901199996471405, cross_entropy:0.4274751842021942\n",
      "epoch: 110, accuracy:0.9013000130653381, cross_entropy:0.42741143703460693\n",
      "epoch: 115, accuracy:0.9057000279426575, cross_entropy:0.4097890555858612\n",
      "epoch: 120, accuracy:0.9071999788284302, cross_entropy:0.40716996788978577\n",
      "epoch: 125, accuracy:0.9090999960899353, cross_entropy:0.4020511209964752\n",
      "epoch: 130, accuracy:0.9128000140190125, cross_entropy:0.38902410864830017\n",
      "epoch: 135, accuracy:0.9125999808311462, cross_entropy:0.3893996477127075\n",
      "epoch: 140, accuracy:0.9164999723434448, cross_entropy:0.38117679953575134\n",
      "epoch: 145, accuracy:0.9128000140190125, cross_entropy:0.39871904253959656\n",
      "epoch: 150, accuracy:0.9118000268936157, cross_entropy:0.4014515280723572\n",
      "epoch: 155, accuracy:0.9118000268936157, cross_entropy:0.39948010444641113\n",
      "epoch: 160, accuracy:0.9150000214576721, cross_entropy:0.390582799911499\n",
      "epoch: 165, accuracy:0.9129999876022339, cross_entropy:0.40354129672050476\n",
      "epoch: 170, accuracy:0.9107999801635742, cross_entropy:0.4064912796020508\n",
      "epoch: 175, accuracy:0.9110000133514404, cross_entropy:0.4079133868217468\n",
      "epoch: 180, accuracy:0.9111999869346619, cross_entropy:0.40922048687934875\n",
      "epoch: 185, accuracy:0.9150999784469604, cross_entropy:0.3932216763496399\n",
      "epoch: 190, accuracy:0.9125000238418579, cross_entropy:0.40526387095451355\n",
      "epoch: 195, accuracy:0.9097999930381775, cross_entropy:0.41473907232284546\n",
      "Model saved in path: ./tmp/neural_network_model.ckpt\n"
     ]
    }
   ],
   "source": [
    "init = tf.global_variables_initializer()\n",
    "with tf.Session() as sess:\n",
    "    sess.run(init)\n",
    "    writer = tf.summary.FileWriter(\"./tmp\", graph=sess.graph)\n",
    "    for epoch in range(epochs):\n",
    "        data = get_batches(X=mnist.train.images,Y=mnist.train.labels,batch_size=batch_size)\n",
    "        for x_,y_ in data:\n",
    "            sess.run(train_step,feed_dict = {X:x_,Y:y_})\n",
    "        \n",
    "        if epoch % display_step == 0:\n",
    "            print(\"epoch: {}, accuracy:{}, cross_entropy:{}\".format(epoch,\n",
    "                sess.run(accuracy,feed_dict={X:mnist.test.images,Y:mnist.test.labels}),\n",
    "                sess.run(cross_entropy,feed_dict = {X:mnist.test.images,Y:mnist.test.labels})))\n",
    "            \n",
    "        summary = sess.run(summary_acc,feed_dict={Y : mnist.train.labels,X : mnist.train.images})\n",
    "        writer.add_summary(summary, epoch)\n",
    "        \n",
    "    save_path = saver.save(sess, \"./tmp/neural_network_model.ckpt\")\n",
    "    print(\"Model saved in path: {}\".format(save_path))\n"
   ]
  },
  {
   "cell_type": "markdown",
   "metadata": {},
   "source": [
    "## Neural net of 2 layers "
   ]
  },
  {
   "cell_type": "markdown",
   "metadata": {},
   "source": [
    "This neural net achieved an error of 1.6 according to [this article](https://en.wikipedia.org/wiki/MNIST_database). 2-layer 784-800-10. But here we need a lot of steps to train and get this small error, we will not run so many epochs. Besides this structure has more parameters (800 actually) than the nn of 3 layers."
   ]
  },
  {
   "cell_type": "code",
   "execution_count": 7,
   "metadata": {
    "collapsed": true
   },
   "outputs": [],
   "source": [
    "learning_rate = 0.05 #learning rate, too big will cause NaNs.\n",
    "batch_size = 10 #size to input the model, max is mnist.train.images.shape[0], the full data\n",
    "epochs = 200 #number of epochs (times we pass trhough all the training data)\n",
    "display_step = 5 #every how many steps we display the accuracy"
   ]
  },
  {
   "cell_type": "code",
   "execution_count": 8,
   "metadata": {
    "collapsed": true
   },
   "outputs": [],
   "source": [
    "nodes_h1 = 800 #number of nodes first layer\n",
    "n_classes = 10 #classes\n",
    "\n",
    "with tf.name_scope('input'):\n",
    "    X = tf.placeholder(tf.float32, [None, 784],name=\"X\")\n",
    "    Y = tf.placeholder(tf.float32, [None, 10],name=\"Y\")\n",
    "\n",
    "with tf.name_scope('parameters'):\n",
    "    W_hidden_1 = tf.Variable(tf.random_normal([784,nodes_h1], name =\"W1\"))\n",
    "    b_hidden_1 = tf.Variable(tf.random_normal([nodes_h1]),name=\"b1\")\n",
    "                          \n",
    "    W_output = tf.Variable(tf.random_normal([nodes_h1,n_classes]),name=\"W_output\")\n",
    "    b_output = tf.Variable(tf.random_normal([n_classes]),name=\"b_output\")\n",
    "                             \n",
    "layer_1 = tf.nn.softmax(tf.matmul(X, W_hidden_1) + b_hidden_1)\n",
    "\n",
    "with tf.name_scope('prediction'):\n",
    "    y = tf.nn.softmax(tf.matmul(layer_1, W_output) + b_output)\n",
    "    \n",
    "#the error to minimize is the cross_entropy\n",
    "cross_entropy = tf.reduce_mean(-tf.reduce_sum(Y * tf.log(y), reduction_indices=[1]))\n",
    "\n",
    "correct_prediction = tf.equal(tf.argmax(y,1), tf.argmax(Y,1))\n",
    "accuracy = tf.reduce_mean(tf.cast(correct_prediction, tf.float32))\n",
    "\n",
    "#train the nn with simple gradient descent\n",
    "train_step = tf.train.GradientDescentOptimizer(learning_rate).minimize(cross_entropy)\n",
    "\n",
    "#saver\n",
    "saver = tf.train.Saver()\n",
    "\n",
    "#to show in tensorboard\n",
    "summary_acc = tf.summary.scalar(name=\"acc\",tensor=accuracy)"
   ]
  },
  {
   "cell_type": "code",
   "execution_count": 9,
   "metadata": {
    "collapsed": false
   },
   "outputs": [
    {
     "name": "stdout",
     "output_type": "stream",
     "text": [
      "epoch: 0, accuracy:0.572700023651123, cross_entropy:1.1352640390396118\n",
      "epoch: 5, accuracy:0.8169000148773193, cross_entropy:0.5566388964653015\n",
      "epoch: 10, accuracy:0.8356999754905701, cross_entropy:0.4961489140987396\n",
      "epoch: 15, accuracy:0.847100019454956, cross_entropy:0.4736345708370209\n",
      "epoch: 20, accuracy:0.8758999705314636, cross_entropy:0.43066534399986267\n",
      "epoch: 25, accuracy:0.8736000061035156, cross_entropy:0.42929980158805847\n",
      "epoch: 30, accuracy:0.8772000074386597, cross_entropy:0.4220755398273468\n",
      "epoch: 35, accuracy:0.8758999705314636, cross_entropy:0.42586392164230347\n",
      "epoch: 40, accuracy:0.8787000179290771, cross_entropy:0.42259687185287476\n",
      "epoch: 45, accuracy:0.8797000050544739, cross_entropy:0.42229726910591125\n",
      "epoch: 50, accuracy:0.8837000131607056, cross_entropy:0.4152168035507202\n",
      "epoch: 55, accuracy:0.8881999850273132, cross_entropy:0.40752679109573364\n",
      "epoch: 60, accuracy:0.8884999752044678, cross_entropy:0.4076586365699768\n",
      "epoch: 65, accuracy:0.8895000219345093, cross_entropy:0.40398696064949036\n",
      "epoch: 70, accuracy:0.890999972820282, cross_entropy:0.401689738035202\n",
      "epoch: 75, accuracy:0.890999972820282, cross_entropy:0.4009884297847748\n",
      "epoch: 80, accuracy:0.8894000053405762, cross_entropy:0.40520212054252625\n",
      "epoch: 85, accuracy:0.8921999931335449, cross_entropy:0.4031235873699188\n",
      "epoch: 90, accuracy:0.892799973487854, cross_entropy:0.4025716185569763\n",
      "epoch: 95, accuracy:0.8938000202178955, cross_entropy:0.39979633688926697\n",
      "epoch: 100, accuracy:0.8939999938011169, cross_entropy:0.4000464975833893\n",
      "epoch: 105, accuracy:0.8937000036239624, cross_entropy:0.3985957205295563\n",
      "epoch: 110, accuracy:0.8938999772071838, cross_entropy:0.39727655053138733\n",
      "epoch: 115, accuracy:0.8938999772071838, cross_entropy:0.3988342583179474\n",
      "epoch: 120, accuracy:0.8928999900817871, cross_entropy:0.4014117419719696\n",
      "epoch: 125, accuracy:0.8921999931335449, cross_entropy:0.40332794189453125\n",
      "epoch: 130, accuracy:0.8910999894142151, cross_entropy:0.4043622612953186\n",
      "epoch: 135, accuracy:0.8938999772071838, cross_entropy:0.4009633958339691\n",
      "epoch: 140, accuracy:0.8938999772071838, cross_entropy:0.4002131223678589\n",
      "epoch: 145, accuracy:0.8970999717712402, cross_entropy:0.3934243619441986\n",
      "epoch: 150, accuracy:0.9003000259399414, cross_entropy:0.3856823146343231\n",
      "epoch: 155, accuracy:0.9034000039100647, cross_entropy:0.3791799247264862\n",
      "epoch: 160, accuracy:0.9072999954223633, cross_entropy:0.37306737899780273\n",
      "epoch: 165, accuracy:0.9101999998092651, cross_entropy:0.3669447600841522\n",
      "epoch: 170, accuracy:0.9150999784469604, cross_entropy:0.3558977544307709\n",
      "epoch: 175, accuracy:0.9217000007629395, cross_entropy:0.34092774987220764\n",
      "epoch: 180, accuracy:0.9236000180244446, cross_entropy:0.33324018120765686\n",
      "epoch: 185, accuracy:0.9259999990463257, cross_entropy:0.326917439699173\n",
      "epoch: 190, accuracy:0.9273999929428101, cross_entropy:0.32487979531288147\n",
      "epoch: 195, accuracy:0.9271000027656555, cross_entropy:0.3265869617462158\n",
      "Model saved in path: ./tmp/neural_network_model.ckpt\n"
     ]
    }
   ],
   "source": [
    "init = tf.global_variables_initializer()\n",
    "with tf.Session() as sess:\n",
    "    sess.run(init)\n",
    "    writer = tf.summary.FileWriter(\"./tmp\", graph=sess.graph)\n",
    "    for epoch in range(epochs):\n",
    "        data = get_batches(X=mnist.train.images,Y=mnist.train.labels,batch_size=batch_size)\n",
    "        for x_,y_ in data:\n",
    "            sess.run(train_step,feed_dict = {X:x_,Y:y_})\n",
    "        \n",
    "        if epoch % display_step == 0:\n",
    "            print(\"epoch: {}, accuracy:{}, cross_entropy:{}\".format(epoch,\n",
    "                sess.run(accuracy,feed_dict={X:mnist.test.images,Y:mnist.test.labels}),\n",
    "                sess.run(cross_entropy,feed_dict = {X:mnist.test.images,Y:mnist.test.labels})))\n",
    "            \n",
    "        summary = sess.run(summary_acc,feed_dict={Y : mnist.train.labels,X : mnist.train.images})\n",
    "        writer.add_summary(summary, epoch)\n",
    "        \n",
    "    save_path = saver.save(sess, \"./tmp/neural_network_model.ckpt\")\n",
    "    print(\"Model saved in path: {}\".format(save_path))\n"
   ]
  },
  {
   "cell_type": "code",
   "execution_count": null,
   "metadata": {
    "collapsed": true
   },
   "outputs": [],
   "source": []
  }
 ],
 "metadata": {
  "kernelspec": {
   "display_name": "Python 3",
   "language": "python",
   "name": "python3"
  },
  "language_info": {
   "codemirror_mode": {
    "name": "ipython",
    "version": 3
   },
   "file_extension": ".py",
   "mimetype": "text/x-python",
   "name": "python",
   "nbconvert_exporter": "python",
   "pygments_lexer": "ipython3",
   "version": "3.5.3"
  }
 },
 "nbformat": 4,
 "nbformat_minor": 2
}
