{
 "cells": [
  {
   "cell_type": "code",
   "execution_count": 1,
   "metadata": {},
   "outputs": [
    {
     "name": "stdout",
     "output_type": "stream",
     "text": [
      "WARNING:tensorflow:From <ipython-input-1-5f7224c2b3e2>:7: read_data_sets (from tensorflow.contrib.learn.python.learn.datasets.mnist) is deprecated and will be removed in a future version.\n",
      "Instructions for updating:\n",
      "Please use alternatives such as official/mnist/dataset.py from tensorflow/models.\n",
      "WARNING:tensorflow:From /usr/local/lib/python3.6/site-packages/tensorflow/contrib/learn/python/learn/datasets/mnist.py:260: maybe_download (from tensorflow.contrib.learn.python.learn.datasets.base) is deprecated and will be removed in a future version.\n",
      "Instructions for updating:\n",
      "Please write your own downloading logic.\n",
      "WARNING:tensorflow:From /usr/local/lib/python3.6/site-packages/tensorflow/contrib/learn/python/learn/datasets/base.py:252: _internal_retry.<locals>.wrap.<locals>.wrapped_fn (from tensorflow.contrib.learn.python.learn.datasets.base) is deprecated and will be removed in a future version.\n",
      "Instructions for updating:\n",
      "Please use urllib or similar directly.\n",
      "Successfully downloaded train-images-idx3-ubyte.gz 9912422 bytes.\n",
      "WARNING:tensorflow:From /usr/local/lib/python3.6/site-packages/tensorflow/contrib/learn/python/learn/datasets/mnist.py:262: extract_images (from tensorflow.contrib.learn.python.learn.datasets.mnist) is deprecated and will be removed in a future version.\n",
      "Instructions for updating:\n",
      "Please use tf.data to implement this functionality.\n",
      "Extracting MNIST_data/train-images-idx3-ubyte.gz\n",
      "Successfully downloaded train-labels-idx1-ubyte.gz 28881 bytes.\n",
      "WARNING:tensorflow:From /usr/local/lib/python3.6/site-packages/tensorflow/contrib/learn/python/learn/datasets/mnist.py:267: extract_labels (from tensorflow.contrib.learn.python.learn.datasets.mnist) is deprecated and will be removed in a future version.\n",
      "Instructions for updating:\n",
      "Please use tf.data to implement this functionality.\n",
      "Extracting MNIST_data/train-labels-idx1-ubyte.gz\n",
      "WARNING:tensorflow:From /usr/local/lib/python3.6/site-packages/tensorflow/contrib/learn/python/learn/datasets/mnist.py:110: dense_to_one_hot (from tensorflow.contrib.learn.python.learn.datasets.mnist) is deprecated and will be removed in a future version.\n",
      "Instructions for updating:\n",
      "Please use tf.one_hot on tensors.\n",
      "Successfully downloaded t10k-images-idx3-ubyte.gz 1648877 bytes.\n",
      "Extracting MNIST_data/t10k-images-idx3-ubyte.gz\n",
      "Successfully downloaded t10k-labels-idx1-ubyte.gz 4542 bytes.\n",
      "Extracting MNIST_data/t10k-labels-idx1-ubyte.gz\n",
      "WARNING:tensorflow:From /usr/local/lib/python3.6/site-packages/tensorflow/contrib/learn/python/learn/datasets/mnist.py:290: DataSet.__init__ (from tensorflow.contrib.learn.python.learn.datasets.mnist) is deprecated and will be removed in a future version.\n",
      "Instructions for updating:\n",
      "Please use alternatives such as official/mnist/dataset.py from tensorflow/models.\n"
     ]
    }
   ],
   "source": [
    "import tensorflow as tf\n",
    "import numpy as np\n",
    "import matplotlib.pyplot as plt\n",
    "\n",
    "# Download the dataset\n",
    "from tensorflow.examples.tutorials.mnist import input_data\n",
    "mnist = input_data.read_data_sets(\"MNIST_data/\", one_hot=True)"
   ]
  },
  {
   "cell_type": "markdown",
   "metadata": {},
   "source": [
    "Shape of the images is 28x28=784. There are 55000 training examples. Let's see the shape and plot some images in grayscale. "
   ]
  },
  {
   "cell_type": "code",
   "execution_count": 2,
   "metadata": {},
   "outputs": [
    {
     "data": {
      "text/plain": [
       "(55000, 784)"
      ]
     },
     "execution_count": 2,
     "metadata": {},
     "output_type": "execute_result"
    }
   ],
   "source": [
    "mnist.train.images.shape"
   ]
  },
  {
   "cell_type": "code",
   "execution_count": 3,
   "metadata": {},
   "outputs": [
    {
     "data": {
      "text/plain": [
       "<Figure size 432x288 with 0 Axes>"
      ]
     },
     "metadata": {},
     "output_type": "display_data"
    },
    {
     "data": {
      "image/png": "[encoded data removed]",
      "text/plain": [
       "<Figure size 720x360 with 12 Axes>"
      ]
     },
     "metadata": {
      "needs_background": "light"
     },
     "output_type": "display_data"
    }
   ],
   "source": [
    "plt.clf()\n",
    "fig, ax = plt.subplots(2,3,figsize=(10,5))\n",
    "\n",
    "for i in range(6):\n",
    "    ax = fig.add_subplot(2, 3, i+1)\n",
    "    ax.imshow(mnist.train.images[i].reshape(28,28),cmap=\"gray\")\n",
    "    ax.axis(\"off\")\n",
    "plt.show()"
   ]
  },
  {
   "cell_type": "markdown",
   "metadata": {},
   "source": [
    "Labels are one hot encoded already (parameter one_hot when we input the data)"
   ]
  },
  {
   "cell_type": "code",
   "execution_count": 4,
   "metadata": {},
   "outputs": [
    {
     "data": {
      "text/plain": [
       "array([[0., 0., 0., 0., 0., 0., 0., 1., 0., 0.],\n",
       "       [0., 0., 0., 1., 0., 0., 0., 0., 0., 0.],\n",
       "       [0., 0., 0., 0., 1., 0., 0., 0., 0., 0.],\n",
       "       [0., 0., 0., 0., 0., 0., 1., 0., 0., 0.],\n",
       "       [0., 1., 0., 0., 0., 0., 0., 0., 0., 0.],\n",
       "       [0., 0., 0., 0., 0., 0., 0., 0., 1., 0.]])"
      ]
     },
     "execution_count": 4,
     "metadata": {},
     "output_type": "execute_result"
    }
   ],
   "source": [
    "mnist.train.labels[:6]"
   ]
  },
  {
   "cell_type": "markdown",
   "metadata": {},
   "source": [
    "Let's program a function that gives a given number of examples. A batch."
   ]
  },
  {
   "cell_type": "code",
   "execution_count": 5,
   "metadata": {},
   "outputs": [],
   "source": [
    "def get_batches(X,Y,batch_size):\n",
    "    '''\n",
    "    Get batches of data, input is features,target\n",
    "    and batch_size, output is one minibatch\n",
    "    '''\n",
    "    iters = X.shape[0]//batch_size\n",
    "    for i in range(0,iters):\n",
    "        yield X[i*batch_size:(i+1)*batch_size],Y[i*batch_size:(i+1)*batch_size]"
   ]
  },
  {
   "cell_type": "code",
   "execution_count": 6,
   "metadata": {},
   "outputs": [
    {
     "name": "stdout",
     "output_type": "stream",
     "text": [
      "(15, 784)\n"
     ]
    }
   ],
   "source": [
    "data_example = get_batches(mnist.train.images,mnist.train.labels,15)\n",
    "print(next(data_example)[0].shape)"
   ]
  },
  {
   "cell_type": "markdown",
   "metadata": {},
   "source": [
    "Here I just check that my self programmed function is faster in getting the batches than the built-in function next_batch in mnist.train."
   ]
  },
  {
   "cell_type": "code",
   "execution_count": 7,
   "metadata": {},
   "outputs": [
    {
     "name": "stdout",
     "output_type": "stream",
     "text": [
      "CPU times: user 70 ms, sys: 30 ms, total: 100 ms\n",
      "Wall time: 96.9 ms\n"
     ]
    }
   ],
   "source": [
    "%%time\n",
    "batch_size=20\n",
    "for ii in range(mnist.train.num_examples//batch_size):\n",
    "        batch = mnist.train.next_batch(batch_size)"
   ]
  },
  {
   "cell_type": "code",
   "execution_count": 8,
   "metadata": {},
   "outputs": [
    {
     "name": "stdout",
     "output_type": "stream",
     "text": [
      "CPU times: user 0 ns, sys: 30 ms, total: 30 ms\n",
      "Wall time: 27.5 ms\n"
     ]
    }
   ],
   "source": [
    "%%time\n",
    "data_example = get_batches(mnist.train.images,mnist.train.labels,batch_size)\n",
    "for x_,y_ in data_example:\n",
    "    pass"
   ]
  },
  {
   "cell_type": "markdown",
   "metadata": {},
   "source": [
    "My approach seems to be one order of magnitude faster. "
   ]
  },
  {
   "cell_type": "markdown",
   "metadata": {},
   "source": [
    "## Logistic regression"
   ]
  },
  {
   "cell_type": "code",
   "execution_count": 9,
   "metadata": {},
   "outputs": [],
   "source": [
    "with tf.name_scope('input'):\n",
    "    X = tf.placeholder(tf.float32, [None, 784],name=\"X\")\n",
    "    Y = tf.placeholder(tf.float32, [None, 10],name=\"Y\")\n",
    "\n",
    "with tf.name_scope('parameters'):\n",
    "    W = tf.Variable(tf.truncated_normal([784, 10]),name=\"W\")\n",
    "    b = tf.Variable(tf.truncated_normal([10]),name=\"b\")\n",
    "    \n",
    "with tf.name_scope('prediction'):\n",
    "    y = tf.nn.softmax(tf.matmul(X, W) + b)\n",
    "\n",
    "cross_entropy = tf.reduce_mean(-tf.reduce_sum(Y * tf.log(y), reduction_indices=[1]))"
   ]
  },
  {
   "cell_type": "code",
   "execution_count": 10,
   "metadata": {},
   "outputs": [],
   "source": [
    "learning_rate = 0.05 #learning rate, too big will cause NaNs.\n",
    "batch_size = 20 #size to input the model, max is mnist.train.images.shape[0], the full data\n",
    "epochs = 100 #number of epochs (times we pass trhough all the training data)\n",
    "display_step = 5 #every how many steps we display the accuracy\n",
    "\n",
    "prediction = tf.argmax(Y,1)\n",
    "label = tf.argmax(y,1)\n",
    "\n",
    "correct_prediction = tf.equal(label, prediction)\n",
    "accuracy = tf.reduce_mean(tf.cast(correct_prediction, tf.float32))\n",
    "\n",
    "#cost = tf.reduce_mean(tf.nn.softmax_cross_entropy_with_logits(logits=y,labels=Y))\n",
    "train_step = tf.train.GradientDescentOptimizer(learning_rate).minimize(cross_entropy)\n",
    "\n",
    "#saver\n",
    "saver = tf.train.Saver()\n",
    "\n",
    "#to show in tensorboard\n",
    "summary_acc = tf.summary.scalar(name=\"acc\",tensor=accuracy)"
   ]
  },
  {
   "cell_type": "code",
   "execution_count": null,
   "metadata": {},
   "outputs": [
    {
     "name": "stdout",
     "output_type": "stream",
     "text": [
      "epoch: 0, accuracy:0.8348000049591064, cross_entropy:0.7043825387954712\n",
      "epoch: 5, accuracy:0.8937000036239624, cross_entropy:0.4177931547164917\n",
      "epoch: 10, accuracy:0.904699981212616, cross_entropy:0.36746466159820557\n",
      "epoch: 15, accuracy:0.9096999764442444, cross_entropy:0.3437553346157074\n",
      "epoch: 20, accuracy:0.9125999808311462, cross_entropy:0.32938075065612793\n",
      "epoch: 25, accuracy:0.9160000085830688, cross_entropy:0.3195991814136505\n",
      "epoch: 30, accuracy:0.9189000129699707, cross_entropy:0.3125038146972656\n",
      "epoch: 35, accuracy:0.919700026512146, cross_entropy:0.3071558475494385\n",
      "epoch: 40, accuracy:0.9211999773979187, cross_entropy:0.3030205965042114\n",
      "epoch: 45, accuracy:0.9215999841690063, cross_entropy:0.29976171255111694\n",
      "epoch: 50, accuracy:0.9222000241279602, cross_entropy:0.29715514183044434\n",
      "epoch: 55, accuracy:0.9229999780654907, cross_entropy:0.29504531621932983\n",
      "epoch: 60, accuracy:0.9233999848365784, cross_entropy:0.29332098364830017\n",
      "epoch: 65, accuracy:0.923799991607666, cross_entropy:0.291900634765625\n",
      "epoch: 70, accuracy:0.9240999817848206, cross_entropy:0.29072338342666626\n",
      "epoch: 75, accuracy:0.9243000149726868, cross_entropy:0.289742648601532\n",
      "epoch: 80, accuracy:0.9247000217437744, cross_entropy:0.2889224886894226\n",
      "epoch: 85, accuracy:0.9247999787330627, cross_entropy:0.28823456168174744\n",
      "epoch: 90, accuracy:0.925000011920929, cross_entropy:0.28765690326690674\n",
      "epoch: 95, accuracy:0.925000011920929, cross_entropy:0.28717121481895447\n"
     ]
    }
   ],
   "source": [
    "init = tf.global_variables_initializer()\n",
    "with tf.Session() as sess:\n",
    "    sess.run(init)\n",
    "    writer = tf.summary.FileWriter(\"./tmp\", graph=sess.graph)\n",
    "    for epoch in range(epochs):\n",
    "        data = get_batches(X=mnist.train.images,Y=mnist.train.labels,batch_size=batch_size)\n",
    "        for x_,y_ in data:\n",
    "            sess.run(train_step,feed_dict = {X:x_,Y:y_})\n",
    "        \n",
    "        if epoch % display_step == 0:\n",
    "            print(\"epoch: {}, accuracy:{}, cross_entropy:{}\".format(epoch,\n",
    "                sess.run(accuracy,feed_dict={X:mnist.test.images,Y:mnist.test.labels}),\n",
    "                sess.run(cross_entropy,feed_dict = {X:mnist.test.images,Y:mnist.test.labels})))\n",
    "            \n",
    "        summary = sess.run(summary_acc,feed_dict={Y : mnist.train.labels,X : mnist.train.images})\n",
    "        writer.add_summary(summary, epoch)\n",
    "        \n",
    "    save_path = saver.save(sess, \"./tmp/logistic_regression_model.ckpt\")\n",
    "    print(\"Model saved in path: {}\".format(save_path))\n"
   ]
  },
  {
   "cell_type": "code",
   "execution_count": 10,
   "metadata": {},
   "outputs": [
    {
     "name": "stdout",
     "output_type": "stream",
     "text": [
      "Final accuracy: 0.9212999939918518\n",
      "The number is [8] and the predicted is [8]\n"
     ]
    },
    {
     "data": {
      "image/png": "[encoded data removed]",
      "text/plain": [
       "<matplotlib.figure.Figure at 0x1226be320>"
      ]
     },
     "metadata": {},
     "output_type": "display_data"
    }
   ],
   "source": [
    "with tf.Session() as sess:\n",
    "    saver.restore(sess, \"./tmp/logistic_regression_model.ckpt\")\n",
    "    print(\"Final accuracy: {}\".format(sess.run(accuracy,feed_dict = {X:mnist.test.images,Y:mnist.test.labels})))\n",
    "    \n",
    "    rdm_index = np.random.choice(len(mnist.test.images))\n",
    "    \n",
    "    x = mnist.test.images[rdm_index].reshape(1,784)\n",
    "    y = mnist.test.labels[rdm_index].reshape(1,10)\n",
    "    \n",
    "    pred = sess.run(prediction,feed_dict={X:x,Y:y})\n",
    "    lab = sess.run(label,feed_dict={X:x,Y:y})\n",
    "    \n",
    "    print(\"The number is {} and the predicted is {}\".format(lab,pred))\n",
    "    \n",
    "    plt.clf()\n",
    "    plt.imshow(mnist.test.images[rdm_index].reshape(28,28),cmap=\"gray\")\n",
    "    plt.axis(\"off\")\n",
    "    plt.show()"
   ]
  },
  {
   "cell_type": "code",
   "execution_count": 11,
   "metadata": {},
   "outputs": [
    {
     "data": {
      "text/plain": [
       "10000"
      ]
     },
     "execution_count": 11,
     "metadata": {},
     "output_type": "execute_result"
    }
   ],
   "source": [
    "mnist.test.images.shape[0]"
   ]
  },
  {
   "cell_type": "code",
   "execution_count": null,
   "metadata": {},
   "outputs": [],
   "source": []
  }
 ],
 "metadata": {
  "kernelspec": {
   "display_name": "Python 3",
   "language": "python",
   "name": "python3"
  },
  "language_info": {
   "codemirror_mode": {
    "name": "ipython",
    "version": 3
   },
   "file_extension": ".py",
   "mimetype": "text/x-python",
   "name": "python",
   "nbconvert_exporter": "python",
   "pygments_lexer": "ipython3",
   "version": "3.6.8"
  }
 },
 "nbformat": 4,
 "nbformat_minor": 2
}
